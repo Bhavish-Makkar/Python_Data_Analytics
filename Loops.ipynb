{
  "nbformat": 4,
  "nbformat_minor": 0,
  "metadata": {
    "colab": {
      "provenance": [],
      "authorship_tag": "ABX9TyPgTr+HCnN90427exS4/ZT8",
      "include_colab_link": true
    },
    "kernelspec": {
      "name": "python3",
      "display_name": "Python 3"
    },
    "language_info": {
      "name": "python"
    }
  },
  "cells": [
    {
      "cell_type": "markdown",
      "metadata": {
        "id": "view-in-github",
        "colab_type": "text"
      },
      "source": [
        "<a href=\"https://colab.research.google.com/github/Bhavish-Makkar/Python_Data_Analytics/blob/main/Loops.ipynb\" target=\"_parent\"><img src=\"https://colab.research.google.com/assets/colab-badge.svg\" alt=\"Open In Colab\"/></a>"
      ]
    },
    {
      "cell_type": "markdown",
      "source": [
        "Print number from 1 to 5 using a while loop."
      ],
      "metadata": {
        "id": "I774spqMY9TT"
      }
    },
    {
      "cell_type": "code",
      "execution_count": 3,
      "metadata": {
        "colab": {
          "base_uri": "https://localhost:8080/"
        },
        "id": "wu_1aj5PYd7s",
        "outputId": "84934f4e-57f3-401a-d624-01c81ace8d7a"
      },
      "outputs": [
        {
          "output_type": "stream",
          "name": "stdout",
          "text": [
            "1\n",
            "2\n",
            "3\n",
            "4\n",
            "5\n"
          ]
        }
      ],
      "source": [
        "i=1\n",
        "while(i<=5):\n",
        "  print(i)\n",
        "  i+=1"
      ]
    },
    {
      "cell_type": "markdown",
      "source": [
        "Calculate the sum of number from 1 to 10 using a while loop."
      ],
      "metadata": {
        "id": "ksZPw9_yZUmb"
      }
    },
    {
      "cell_type": "code",
      "source": [
        "i=1\n",
        "sum=0 #initialise sum with 0\n",
        "while(i<=10):\n",
        "  sum+=i\n",
        "  i+=1\n",
        "print(sum)"
      ],
      "metadata": {
        "colab": {
          "base_uri": "https://localhost:8080/"
        },
        "id": "TyilUeoEZfCd",
        "outputId": "bf2cecb7-0fbf-4ced-a7e4-1247c58fdf17"
      },
      "execution_count": 5,
      "outputs": [
        {
          "output_type": "stream",
          "name": "stdout",
          "text": [
            "55\n"
          ]
        }
      ]
    },
    {
      "cell_type": "markdown",
      "source": [
        "Calculate the factorial of a number using a for loop."
      ],
      "metadata": {
        "id": "wYSzxDxGZs_r"
      }
    },
    {
      "cell_type": "code",
      "source": [
        "num=int(input(\"enter the number \"))\n",
        "prod=1#initalise the product with 1\n",
        "for i in range(1,num+1):\n",
        "  prod*=i\n",
        "print(prod)"
      ],
      "metadata": {
        "colab": {
          "base_uri": "https://localhost:8080/"
        },
        "id": "dr6cEZTAZ4my",
        "outputId": "e180260f-c5ec-40cd-ab3c-209724949e73"
      },
      "execution_count": 7,
      "outputs": [
        {
          "output_type": "stream",
          "name": "stdout",
          "text": [
            "enter the number 6\n",
            "720\n"
          ]
        }
      ]
    },
    {
      "cell_type": "markdown",
      "source": [
        "Count the number of vowels in a string using a for loop."
      ],
      "metadata": {
        "id": "KV5HFyOpaTNA"
      }
    },
    {
      "cell_type": "code",
      "source": [
        "my_string=input(\"Enter The String-: \")\n",
        "count=0\n",
        "for x in my_string:\n",
        "\n",
        "  if(x=='a' or x=='e' or x=='i' or x=='o' or x=='u'):\n",
        "   count+=1\n",
        "print(count)"
      ],
      "metadata": {
        "colab": {
          "base_uri": "https://localhost:8080/"
        },
        "id": "3PQSlBLgaifj",
        "outputId": "6d2c61e5-351d-44e8-8a42-e90d9d200252"
      },
      "execution_count": 12,
      "outputs": [
        {
          "output_type": "stream",
          "name": "stdout",
          "text": [
            "Enter The String-: Bhavish\n",
            "2\n"
          ]
        }
      ]
    },
    {
      "cell_type": "markdown",
      "source": [
        "Print a pattern using nested loop."
      ],
      "metadata": {
        "id": "Dj_PjWH5a5dK"
      }
    },
    {
      "cell_type": "code",
      "source": [
        "i=4\n",
        "for i in range(4):# i go to 0 to 3\n",
        "  for j in range(i+1):# j go to 0 to i\n",
        "    print(\"*\",end=\" \")\n",
        "  print()"
      ],
      "metadata": {
        "colab": {
          "base_uri": "https://localhost:8080/"
        },
        "id": "GJ7Mj7sqbd7C",
        "outputId": "6c810156-9ef2-49b4-8fb1-9d045532bd3a"
      },
      "execution_count": 15,
      "outputs": [
        {
          "output_type": "stream",
          "name": "stdout",
          "text": [
            "* \n",
            "* * \n",
            "* * * \n",
            "* * * * \n"
          ]
        }
      ]
    },
    {
      "cell_type": "markdown",
      "source": [
        "Generate a multiplication table using nested loop."
      ],
      "metadata": {
        "id": "pLdlZULFbup0"
      }
    },
    {
      "cell_type": "code",
      "source": [
        "for i in range (1,11):#table of 1 To 10\n",
        "  for j in range(1,11):\n",
        "    print(f\"{i}*{j}--> {i*j}\")\n",
        "\n",
        "  print()"
      ],
      "metadata": {
        "colab": {
          "base_uri": "https://localhost:8080/"
        },
        "id": "jVOKuXQacB5a",
        "outputId": "3516a9f9-07af-4041-ced8-b4c520fe2caa"
      },
      "execution_count": 17,
      "outputs": [
        {
          "output_type": "stream",
          "name": "stdout",
          "text": [
            "1*1--> 1\n",
            "1*2--> 2\n",
            "1*3--> 3\n",
            "1*4--> 4\n",
            "1*5--> 5\n",
            "1*6--> 6\n",
            "1*7--> 7\n",
            "1*8--> 8\n",
            "1*9--> 9\n",
            "1*10--> 10\n",
            "\n",
            "2*1--> 2\n",
            "2*2--> 4\n",
            "2*3--> 6\n",
            "2*4--> 8\n",
            "2*5--> 10\n",
            "2*6--> 12\n",
            "2*7--> 14\n",
            "2*8--> 16\n",
            "2*9--> 18\n",
            "2*10--> 20\n",
            "\n",
            "3*1--> 3\n",
            "3*2--> 6\n",
            "3*3--> 9\n",
            "3*4--> 12\n",
            "3*5--> 15\n",
            "3*6--> 18\n",
            "3*7--> 21\n",
            "3*8--> 24\n",
            "3*9--> 27\n",
            "3*10--> 30\n",
            "\n",
            "4*1--> 4\n",
            "4*2--> 8\n",
            "4*3--> 12\n",
            "4*4--> 16\n",
            "4*5--> 20\n",
            "4*6--> 24\n",
            "4*7--> 28\n",
            "4*8--> 32\n",
            "4*9--> 36\n",
            "4*10--> 40\n",
            "\n",
            "5*1--> 5\n",
            "5*2--> 10\n",
            "5*3--> 15\n",
            "5*4--> 20\n",
            "5*5--> 25\n",
            "5*6--> 30\n",
            "5*7--> 35\n",
            "5*8--> 40\n",
            "5*9--> 45\n",
            "5*10--> 50\n",
            "\n",
            "6*1--> 6\n",
            "6*2--> 12\n",
            "6*3--> 18\n",
            "6*4--> 24\n",
            "6*5--> 30\n",
            "6*6--> 36\n",
            "6*7--> 42\n",
            "6*8--> 48\n",
            "6*9--> 54\n",
            "6*10--> 60\n",
            "\n",
            "7*1--> 7\n",
            "7*2--> 14\n",
            "7*3--> 21\n",
            "7*4--> 28\n",
            "7*5--> 35\n",
            "7*6--> 42\n",
            "7*7--> 49\n",
            "7*8--> 56\n",
            "7*9--> 63\n",
            "7*10--> 70\n",
            "\n",
            "8*1--> 8\n",
            "8*2--> 16\n",
            "8*3--> 24\n",
            "8*4--> 32\n",
            "8*5--> 40\n",
            "8*6--> 48\n",
            "8*7--> 56\n",
            "8*8--> 64\n",
            "8*9--> 72\n",
            "8*10--> 80\n",
            "\n",
            "9*1--> 9\n",
            "9*2--> 18\n",
            "9*3--> 27\n",
            "9*4--> 36\n",
            "9*5--> 45\n",
            "9*6--> 54\n",
            "9*7--> 63\n",
            "9*8--> 72\n",
            "9*9--> 81\n",
            "9*10--> 90\n",
            "\n",
            "10*1--> 10\n",
            "10*2--> 20\n",
            "10*3--> 30\n",
            "10*4--> 40\n",
            "10*5--> 50\n",
            "10*6--> 60\n",
            "10*7--> 70\n",
            "10*8--> 80\n",
            "10*9--> 90\n",
            "10*10--> 100\n",
            "\n"
          ]
        }
      ]
    },
    {
      "cell_type": "code",
      "source": [
        "s"
      ],
      "metadata": {
        "id": "V8ZQW6qpcqQ4"
      },
      "execution_count": null,
      "outputs": []
    }
  ]
}