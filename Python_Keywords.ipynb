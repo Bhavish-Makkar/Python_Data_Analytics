{
  "nbformat": 4,
  "nbformat_minor": 0,
  "metadata": {
    "colab": {
      "private_outputs": true,
      "provenance": [],
      "authorship_tag": "ABX9TyPbLCvZNG/OR6oNpVrGKS/N",
      "include_colab_link": true
    },
    "kernelspec": {
      "name": "python3",
      "display_name": "Python 3"
    },
    "language_info": {
      "name": "python"
    }
  },
  "cells": [
    {
      "cell_type": "markdown",
      "metadata": {
        "id": "view-in-github",
        "colab_type": "text"
      },
      "source": [
        "<a href=\"https://colab.research.google.com/github/Bhavish-Makkar/Python_Data_Analytics/blob/main/Python_Keywords.ipynb\" target=\"_parent\"><img src=\"https://colab.research.google.com/assets/colab-badge.svg\" alt=\"Open In Colab\"/></a>"
      ]
    },
    {
      "cell_type": "markdown",
      "source": [
        "Q1) Explain The significance Of The Python Keywords And Provide Example Of 5 Keywords\n",
        "\n",
        "---\n",
        "\n"
      ],
      "metadata": {
        "id": "fXoD7QR_NSic"
      }
    },
    {
      "cell_type": "markdown",
      "source": [
        "Ans)Keywords Are The Reserved Words That Have Special Meaning In The Programming Language\n",
        "It Defines The Syntax Of The Programme And It Cannot Be Used As Identifiers,Variable Or Function Name\n",
        "Their Are 36 keywords In Python\n",
        "Example Of Keywords-:\n",
        "\n",
        "---\n",
        "\n",
        "\n",
        "if\n",
        "\n",
        "---\n",
        "\n",
        "\n",
        "elif\n",
        "\n",
        "---\n",
        "\n",
        "\n",
        "else\n",
        "\n",
        "\n",
        "---\n",
        "\n",
        "\n",
        "print\n",
        "\n",
        "\n",
        "---\n",
        "\n",
        "\n",
        "None\n",
        "\n"
      ],
      "metadata": {
        "id": "zo32DavCNshX"
      }
    },
    {
      "cell_type": "markdown",
      "source": [
        "Q2) Describe The Rule Of Defining Identifiers In Python And Provide An Example"
      ],
      "metadata": {
        "id": "g12YYEbfO62T"
      }
    },
    {
      "cell_type": "markdown",
      "source": [
        "Ans)Rules For Defining The Identifiers In Python-:\n",
        "\n",
        "\n",
        "1.   Naming should start with letter(A-Z or a to z) or underscore sign\n",
        "\n",
        "2.   Naming should not contain space in between instead use underscore sign\n",
        "\n",
        "3.  Naming Should not contain keywords as it changes the actual meaning of keywords\n",
        "\n",
        "1.   Naming should not contain any special symbol\n",
        "\n",
        "2.  name must be meaningful\n",
        "\n",
        "\n",
        "\n",
        "\n",
        "\n"
      ],
      "metadata": {
        "id": "J9unIrYbPw-X"
      }
    },
    {
      "cell_type": "code",
      "source": [
        "my_name=\"Bhavish\"\n",
        "_city_=\"agra\"\n",
        "city2=\"delhi\"\n",
        "# city@=\"delhi\"  not acceptable as special symbol is their\n",
        "# print=\"ajay\"  not acceoptable as keyword is being used\n",
        "# 12_a=\"pwskills\"  not acceptable as name is staring with number"
      ],
      "metadata": {
        "id": "OL9K4h4jQ2B_"
      },
      "execution_count": null,
      "outputs": []
    },
    {
      "cell_type": "markdown",
      "source": [
        "Q3)What are comments in Python, and why are they useful Provide an example"
      ],
      "metadata": {
        "id": "Sitgkr1vRDSB"
      }
    },
    {
      "cell_type": "markdown",
      "source": [
        "Comments In Python Are That Part Of Code Which Are Not Ignored By The Compiler While Compling The Programme\n",
        "\n",
        "---\n",
        "\n",
        "\n",
        "They Are Just For Enhancing The Readablity Of The Programme\n",
        "\n",
        "---\n",
        "\n",
        "\n",
        "They Are used For Documentation Purpose"
      ],
      "metadata": {
        "id": "9ZyaoqidSfuN"
      }
    },
    {
      "cell_type": "code",
      "source": [
        "a=3 #a is assigned value 3   single lne comment"
      ],
      "metadata": {
        "id": "-dZMLjXATLVR"
      },
      "execution_count": null,
      "outputs": []
    },
    {
      "cell_type": "code",
      "source": [
        "'''This is\n",
        "a Multi Line Comment'''"
      ],
      "metadata": {
        "id": "GftwNqwATWNU"
      },
      "execution_count": null,
      "outputs": []
    },
    {
      "cell_type": "markdown",
      "source": [
        "Q4)Why is proper indentation important in Python"
      ],
      "metadata": {
        "id": "pV8X9c3tTfoD"
      }
    },
    {
      "cell_type": "markdown",
      "source": [
        "The Primary Purpose Of Using The Identation In Python Is To Definbg The Scope Of Statement Used Such As Those Within Loops ,Conditionals,or Function.It Also Enhances The Readablity Of The Programe"
      ],
      "metadata": {
        "id": "sQAUn6a_TxUh"
      }
    },
    {
      "cell_type": "markdown",
      "source": [
        "Q5) What happens if indentation is incorrect in Python"
      ],
      "metadata": {
        "id": "egGXvKx3UNtK"
      }
    },
    {
      "cell_type": "markdown",
      "source": [
        "If The Identation Is Not Correct in Python Then Its Not Possible To Identify the Scope Of Block Of Code ,Variable Used Within It And many Other Methods Within It\n",
        "\n",
        "The Overall Code May Not Run And Interpretor May Show Error"
      ],
      "metadata": {
        "id": "adHVKejyUggm"
      }
    },
    {
      "cell_type": "markdown",
      "source": [
        "Q6)Differentiate between expression and statement in Python with examples"
      ],
      "metadata": {
        "id": "zvHlJguyVE-3"
      }
    },
    {
      "cell_type": "markdown",
      "source": [
        "Statements In Python Are Block Of Code Which Will Perform The Action\n",
        "\n",
        "\n",
        "Expression In Python are Piece Of Code Which Will Evaluate To a Value And Give result\n",
        "\n",
        "---\n",
        "\n",
        "Statement Do not Return a value\n",
        "\n",
        "Expression return a value\n"
      ],
      "metadata": {
        "id": "wpVWpVi-VWgl"
      }
    },
    {
      "cell_type": "code",
      "source": [
        "a=2 #statement\n",
        "if a==2: #expression\n",
        "  print(\"a is true\")#statement"
      ],
      "metadata": {
        "id": "MfJJOAYfWbPJ"
      },
      "execution_count": null,
      "outputs": []
    },
    {
      "cell_type": "code",
      "source": [],
      "metadata": {
        "id": "r8E1LhJ9Wxy4"
      },
      "execution_count": null,
      "outputs": []
    }
  ]
}