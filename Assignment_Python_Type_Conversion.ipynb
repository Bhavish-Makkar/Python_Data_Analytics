{
  "nbformat": 4,
  "nbformat_minor": 0,
  "metadata": {
    "colab": {
      "provenance": [],
      "authorship_tag": "ABX9TyNbfgQhwjE4mSO1pBEw21Lg",
      "include_colab_link": true
    },
    "kernelspec": {
      "name": "python3",
      "display_name": "Python 3"
    },
    "language_info": {
      "name": "python"
    }
  },
  "cells": [
    {
      "cell_type": "markdown",
      "metadata": {
        "id": "view-in-github",
        "colab_type": "text"
      },
      "source": [
        "<a href=\"https://colab.research.google.com/github/Bhavish-Makkar/Python_Data_Analytics/blob/main/Assignment_Python_Type_Conversion.ipynb\" target=\"_parent\"><img src=\"https://colab.research.google.com/assets/colab-badge.svg\" alt=\"Open In Colab\"/></a>"
      ]
    },
    {
      "cell_type": "markdown",
      "source": [
        "Convert an integer to an floating-point number."
      ],
      "metadata": {
        "id": "wGq3uQry0wna"
      }
    },
    {
      "cell_type": "code",
      "execution_count": 1,
      "metadata": {
        "colab": {
          "base_uri": "https://localhost:8080/"
        },
        "id": "FGn5sWO4yNK5",
        "outputId": "b6f13b87-8398-4643-9b63-62e599e5651e"
      },
      "outputs": [
        {
          "output_type": "stream",
          "name": "stdout",
          "text": [
            "Enter The Number8\n",
            "8.0\n"
          ]
        }
      ],
      "source": [
        "number=int(input(\"Enter The Number\"))\n",
        "float_number=float(number)\n",
        "print(float_number)"
      ]
    },
    {
      "cell_type": "markdown",
      "source": [
        " Convert an float to an integer."
      ],
      "metadata": {
        "id": "yk-wHdsS0kly"
      }
    },
    {
      "cell_type": "code",
      "source": [
        "number=float(input(\"enter the number\"))\n",
        "int_number=int(number)\n",
        "print(number)"
      ],
      "metadata": {
        "colab": {
          "base_uri": "https://localhost:8080/"
        },
        "id": "hgvC6Jwf1nYN",
        "outputId": "9d87e869-7086-4d99-8b93-ace2bd1915c7"
      },
      "execution_count": 2,
      "outputs": [
        {
          "output_type": "stream",
          "name": "stdout",
          "text": [
            "enter the number4.5\n",
            "4.5\n"
          ]
        }
      ]
    },
    {
      "cell_type": "markdown",
      "source": [
        " Convert an integer to a string"
      ],
      "metadata": {
        "id": "wvoky3_30iGj"
      }
    },
    {
      "cell_type": "code",
      "source": [
        "number=int(input(\"Enter The Number\"))\n",
        "my_string=str(number)\n",
        "print(my_string)\n",
        "type(my_string)"
      ],
      "metadata": {
        "colab": {
          "base_uri": "https://localhost:8080/"
        },
        "id": "rqOGnn7_z9O_",
        "outputId": "bc22ca5c-a516-4ab9-967b-7866fef18e9d"
      },
      "execution_count": 4,
      "outputs": [
        {
          "output_type": "stream",
          "name": "stdout",
          "text": [
            "Enter The Number5\n",
            "5\n"
          ]
        },
        {
          "output_type": "execute_result",
          "data": {
            "text/plain": [
              "str"
            ]
          },
          "metadata": {},
          "execution_count": 4
        }
      ]
    },
    {
      "cell_type": "markdown",
      "source": [
        "Convert a List To Tuple"
      ],
      "metadata": {
        "id": "U7k1kFwD2vA1"
      }
    },
    {
      "cell_type": "code",
      "source": [
        "my_list=[1,2,3,4,\"hello\",True]\n",
        "my_tuple=tuple(my_list)\n",
        "print(my_tuple)"
      ],
      "metadata": {
        "colab": {
          "base_uri": "https://localhost:8080/"
        },
        "id": "xtQqNBeJ3YcV",
        "outputId": "d9eb4a74-2645-4e90-8139-695e1cf0eb4c"
      },
      "execution_count": 1,
      "outputs": [
        {
          "output_type": "stream",
          "name": "stdout",
          "text": [
            "(1, 2, 3, 4, 'hello', True)\n"
          ]
        }
      ]
    },
    {
      "cell_type": "markdown",
      "source": [
        "Convert a tuple to a list."
      ],
      "metadata": {
        "id": "Fae7ej6I3m1B"
      }
    },
    {
      "cell_type": "code",
      "source": [
        "my_tuple=(1,2,3,\"hello\",True)\n",
        "my_list=list(my_tuple)\n",
        "print(my_list)"
      ],
      "metadata": {
        "colab": {
          "base_uri": "https://localhost:8080/"
        },
        "id": "N1Et0TZ93x8p",
        "outputId": "8f267f69-3f00-421d-f4b6-45c634fb8ee1"
      },
      "execution_count": 2,
      "outputs": [
        {
          "output_type": "stream",
          "name": "stdout",
          "text": [
            "[1, 2, 3, 'hello', True]\n"
          ]
        }
      ]
    },
    {
      "cell_type": "markdown",
      "source": [
        "Convert a decimal number to binary."
      ],
      "metadata": {
        "id": "GKEsga_D38fb"
      }
    },
    {
      "cell_type": "code",
      "source": [
        "num=9\n",
        "binary_num=bin(num)\n",
        "print(binary_num)"
      ],
      "metadata": {
        "colab": {
          "base_uri": "https://localhost:8080/"
        },
        "id": "pGiHxZrc4FVJ",
        "outputId": "9dd3d526-4c10-4927-fcf2-23c533e71065"
      },
      "execution_count": 3,
      "outputs": [
        {
          "output_type": "stream",
          "name": "stdout",
          "text": [
            "0b1001\n"
          ]
        }
      ]
    },
    {
      "cell_type": "markdown",
      "source": [
        "Convert an non-zero number to boolean."
      ],
      "metadata": {
        "id": "7v-HMu7m4sEP"
      }
    },
    {
      "cell_type": "code",
      "source": [
        "a=9\n",
        "bool_value=bool(a)\n",
        "print(bool_value)"
      ],
      "metadata": {
        "colab": {
          "base_uri": "https://localhost:8080/"
        },
        "id": "jlgo42xQ43rj",
        "outputId": "2eca551a-67ce-46f2-9d3e-b045621ef593"
      },
      "execution_count": 4,
      "outputs": [
        {
          "output_type": "stream",
          "name": "stdout",
          "text": [
            "True\n"
          ]
        }
      ]
    },
    {
      "cell_type": "code",
      "source": [],
      "metadata": {
        "id": "W7_aNjD65A6c"
      },
      "execution_count": null,
      "outputs": []
    }
  ]
}