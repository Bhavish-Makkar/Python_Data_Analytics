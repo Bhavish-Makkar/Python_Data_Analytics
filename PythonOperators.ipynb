{
  "nbformat": 4,
  "nbformat_minor": 0,
  "metadata": {
    "colab": {
      "provenance": [],
      "authorship_tag": "ABX9TyPikSKQY7CkBfh6yTZSHnS2",
      "include_colab_link": true
    },
    "kernelspec": {
      "name": "python3",
      "display_name": "Python 3"
    },
    "language_info": {
      "name": "python"
    }
  },
  "cells": [
    {
      "cell_type": "markdown",
      "metadata": {
        "id": "view-in-github",
        "colab_type": "text"
      },
      "source": [
        "<a href=\"https://colab.research.google.com/github/Bhavish-Makkar/Python_Data_Analytics/blob/main/PythonOperators.ipynb\" target=\"_parent\"><img src=\"https://colab.research.google.com/assets/colab-badge.svg\" alt=\"Open In Colab\"/></a>"
      ]
    },
    {
      "cell_type": "markdown",
      "source": [
        "Calculate The Sum ,Difference, Product,quotient of two number"
      ],
      "metadata": {
        "id": "QMuRjhsT9mR-"
      }
    },
    {
      "cell_type": "code",
      "execution_count": 1,
      "metadata": {
        "colab": {
          "base_uri": "https://localhost:8080/"
        },
        "id": "q3-KaCJ48IG9",
        "outputId": "f17c50ef-ca24-4837-a097-6a04c8aab252"
      },
      "outputs": [
        {
          "output_type": "stream",
          "name": "stdout",
          "text": [
            "Enter The First Number5\n",
            "Enter The Second Number2\n",
            "7\n",
            "3\n",
            "10\n",
            "2\n"
          ]
        }
      ],
      "source": [
        "num1=int(input(\"Enter The First Number\"))\n",
        "num2=int(input(\"Enter The Second Number\"))\n",
        "add=num1+num2 #addition of two number\n",
        "sub=num1-num2#subtraction of two number\n",
        "mult=num1*num2#multiplication of two number\n",
        "quot=num1//num2#quotient of two number\n",
        "print(add)\n",
        "print(sub)\n",
        "print(mult)\n",
        "print(quot)"
      ]
    },
    {
      "cell_type": "markdown",
      "source": [
        "Perform Various Assignment Operation On The Variable"
      ],
      "metadata": {
        "id": "oGcWe0-o-Mxm"
      }
    },
    {
      "cell_type": "code",
      "source": [
        "a=10 #simple Assignment\n",
        "#Compound Assignment Operation\n",
        "a+=10 #a=a+10\n",
        "print(a)"
      ],
      "metadata": {
        "colab": {
          "base_uri": "https://localhost:8080/"
        },
        "id": "q__8ap_F-VhT",
        "outputId": "ae938c1f-93d5-4a01-f14a-ef03e0256c9e"
      },
      "execution_count": 2,
      "outputs": [
        {
          "output_type": "stream",
          "name": "stdout",
          "text": [
            "20\n"
          ]
        }
      ]
    },
    {
      "cell_type": "code",
      "source": [
        "a-=10 #a=a-10\n",
        "print(a)"
      ],
      "metadata": {
        "colab": {
          "base_uri": "https://localhost:8080/"
        },
        "id": "6jsNUAPX-sCz",
        "outputId": "808f0c4b-9cb2-42bd-e621-fdf73ca28544"
      },
      "execution_count": 3,
      "outputs": [
        {
          "output_type": "stream",
          "name": "stdout",
          "text": [
            "10\n"
          ]
        }
      ]
    },
    {
      "cell_type": "code",
      "source": [
        "a*=10 #a=a*10\n",
        "print(a)"
      ],
      "metadata": {
        "colab": {
          "base_uri": "https://localhost:8080/"
        },
        "id": "0DY_lwM8-2XZ",
        "outputId": "a1a1973d-70e2-4949-e441-5ce4170902a9"
      },
      "execution_count": 4,
      "outputs": [
        {
          "output_type": "stream",
          "name": "stdout",
          "text": [
            "100\n"
          ]
        }
      ]
    },
    {
      "cell_type": "code",
      "source": [
        "a//=10 #a=a//10\n",
        "print(a)"
      ],
      "metadata": {
        "colab": {
          "base_uri": "https://localhost:8080/"
        },
        "id": "JEa5XnJO-7Bk",
        "outputId": "f2c98d64-5d89-45eb-a69f-b4d6f719385d"
      },
      "execution_count": 5,
      "outputs": [
        {
          "output_type": "stream",
          "name": "stdout",
          "text": [
            "10\n"
          ]
        }
      ]
    },
    {
      "cell_type": "code",
      "source": [
        "\n",
        "a**=2#a=a**2\n",
        "print(a)"
      ],
      "metadata": {
        "colab": {
          "base_uri": "https://localhost:8080/"
        },
        "id": "v62NX538_Dkr",
        "outputId": "916a45bb-984a-4939-8ffe-95e61dffa1b2"
      },
      "execution_count": 6,
      "outputs": [
        {
          "output_type": "stream",
          "name": "stdout",
          "text": [
            "100\n"
          ]
        }
      ]
    },
    {
      "cell_type": "code",
      "source": [
        "a/=10 #a=a/10\n",
        "print(a)"
      ],
      "metadata": {
        "colab": {
          "base_uri": "https://localhost:8080/"
        },
        "id": "GPKzDoH2_JIk",
        "outputId": "26c5a2a4-4ae6-4038-ee3f-18f455ba4f10"
      },
      "execution_count": 7,
      "outputs": [
        {
          "output_type": "stream",
          "name": "stdout",
          "text": [
            "10.0\n"
          ]
        }
      ]
    },
    {
      "cell_type": "markdown",
      "source": [
        "Compare Two Numbers And Print The Result\n"
      ],
      "metadata": {
        "id": "wIw-fDay_8Q_"
      }
    },
    {
      "cell_type": "code",
      "source": [
        "num1=int(input(\"Enter The First Number\"))\n",
        "num2=int(input(\"Enter The Second Number\"))\n",
        "if(num1>num2):\n",
        "  print(\"num1 is greater than num2\")\n",
        "elif(num1<num2):\n",
        "  print(\"num1 is smaller than num2\")\n",
        "else:\n",
        "  print(\"num1 is equal to num2\")\n"
      ],
      "metadata": {
        "colab": {
          "base_uri": "https://localhost:8080/"
        },
        "id": "hyXDtJRNAcql",
        "outputId": "c3d8eabc-9207-4b6c-f9bc-6ab7f898d65f"
      },
      "execution_count": 8,
      "outputs": [
        {
          "output_type": "stream",
          "name": "stdout",
          "text": [
            "Enter The First Number4\n",
            "Enter The Second Number5\n",
            "num1 is smaller than num2\n"
          ]
        }
      ]
    },
    {
      "cell_type": "markdown",
      "source": [
        "Check The Condition Using Logical Operators"
      ],
      "metadata": {
        "id": "kVtrUQlOA_Fa"
      }
    },
    {
      "cell_type": "code",
      "source": [
        "num1=int(input(\"Enter The First Number\"))\n",
        "num2=int(input(\"Enter The Second Number\"))\n",
        "#logical And\n",
        "if(num1>num2 and num1==2):#both condition evaluate to true\n",
        "  print(\"num1 is greater than num2 and num1 is equal 2\")"
      ],
      "metadata": {
        "colab": {
          "base_uri": "https://localhost:8080/"
        },
        "id": "xvttiw8JBlsr",
        "outputId": "caa00ad3-b9c7-4680-a403-7a980f3d5422"
      },
      "execution_count": 9,
      "outputs": [
        {
          "output_type": "stream",
          "name": "stdout",
          "text": [
            "Enter The First Number2\n",
            "Enter The Second Number1\n",
            "num1 is greater than num2 and num1 is equal 2\n"
          ]
        }
      ]
    },
    {
      "cell_type": "code",
      "source": [
        "num1=int(input(\"Enter The First Number\"))\n",
        "num2=int(input(\"Enter The Second Number\"))\n",
        "#logical or\n",
        "if(num1>num2 or num1==num2):#atleast one  condition evaluate to true\n",
        "  print(\"num1 is greater than num2 or num1 is equal to num2\")"
      ],
      "metadata": {
        "colab": {
          "base_uri": "https://localhost:8080/"
        },
        "id": "yBq4E3EbCRJS",
        "outputId": "fd679513-672f-4542-9d23-74246630c4b5"
      },
      "execution_count": 11,
      "outputs": [
        {
          "output_type": "stream",
          "name": "stdout",
          "text": [
            "Enter The First Number4\n",
            "Enter The Second Number4\n",
            "num1 is greater than num2 or num1 is equal to num2\n"
          ]
        }
      ]
    },
    {
      "cell_type": "code",
      "source": [
        "num1=int(input(\"Enter The First Number\"))\n",
        "num2=int(input(\"Enter The Second Number\"))\n",
        "#logical not\n",
        "if(not(num1>num2)):\n",
        "  print(\"num1 is smaller than num 2\")"
      ],
      "metadata": {
        "colab": {
          "base_uri": "https://localhost:8080/"
        },
        "id": "b1LiclcPCusF",
        "outputId": "bb526538-c0d2-43ae-954e-1b904e0163cf"
      },
      "execution_count": 13,
      "outputs": [
        {
          "output_type": "stream",
          "name": "stdout",
          "text": [
            "Enter The First Number4\n",
            "Enter The Second Number5\n",
            "num1 is smaller than num 2\n"
          ]
        }
      ]
    },
    {
      "cell_type": "markdown",
      "source": [
        "Check The Identity Of The Variable"
      ],
      "metadata": {
        "id": "kkdgT2TcDoJZ"
      }
    },
    {
      "cell_type": "code",
      "source": [
        "a=5\n",
        "b=5\n",
        "c=b\n",
        "d=10\n",
        "print(a is b)\n",
        "print(c is b)\n",
        "print(d is b)"
      ],
      "metadata": {
        "colab": {
          "base_uri": "https://localhost:8080/"
        },
        "id": "cWVMGkD_DF2j",
        "outputId": "aedb6bf9-925c-48dc-de1e-4b96929b6595"
      },
      "execution_count": 19,
      "outputs": [
        {
          "output_type": "stream",
          "name": "stdout",
          "text": [
            "True\n",
            "True\n",
            "False\n"
          ]
        }
      ]
    },
    {
      "cell_type": "markdown",
      "source": [
        "Perform The Bitwise Operation On Two Number"
      ],
      "metadata": {
        "id": "vU6tipNNFHSq"
      }
    },
    {
      "cell_type": "code",
      "source": [
        "num1=int(input(\"Enter The First Number\"))\n",
        "num2=int(input(\"Enter The Second Number\"))\n",
        "print(num1|num2)#bitwise or\n",
        "print(num1&num2)#bitwise and\n",
        "print(num1^num2)#bitwise xor\n",
        "print(num1<<num2)#bitwise left shift\n",
        "print(num1>>num2)#bitwise right shift\n",
        "print(~(num1))#unary bitwise negation operation on num1"
      ],
      "metadata": {
        "colab": {
          "base_uri": "https://localhost:8080/"
        },
        "id": "JQXZsy9uEiIg",
        "outputId": "7387acf6-2683-44ce-c447-0ac66456c026"
      },
      "execution_count": 22,
      "outputs": [
        {
          "output_type": "stream",
          "name": "stdout",
          "text": [
            "Enter The First Number10\n",
            "Enter The Second Number2\n",
            "10\n",
            "2\n",
            "8\n",
            "40\n",
            "2\n",
            "-11\n"
          ]
        }
      ]
    },
    {
      "cell_type": "markdown",
      "source": [
        "Use The Unary Operator To Change The Sign Of The Number"
      ],
      "metadata": {
        "id": "xDF_xk-0FmyD"
      }
    },
    {
      "cell_type": "code",
      "source": [
        "num1=int(input(\"enter The first number\"))\n",
        "num2=-num1\n",
        "print(num2)"
      ],
      "metadata": {
        "colab": {
          "base_uri": "https://localhost:8080/"
        },
        "id": "NPdvtgV6GvdH",
        "outputId": "62186574-1a19-474a-fdcf-6130dca33f4a"
      },
      "execution_count": 1,
      "outputs": [
        {
          "output_type": "stream",
          "name": "stdout",
          "text": [
            "enter The first number5\n",
            "-5\n"
          ]
        }
      ]
    },
    {
      "cell_type": "markdown",
      "source": [
        "Use The Ternary Operator To Assign The Values Based On The Condition"
      ],
      "metadata": {
        "id": "PCRej2LdG8W3"
      }
    },
    {
      "cell_type": "code",
      "source": [
        "marks=int(input(\"Please Enter Your Marks\"))\n",
        "result=\"pass\"if marks>=40 else \"fail\"\n",
        "print(result)"
      ],
      "metadata": {
        "colab": {
          "base_uri": "https://localhost:8080/"
        },
        "id": "seY2tpLqHUEP",
        "outputId": "783dbcb4-1c30-4d31-9a6e-c7a068bcfa2d"
      },
      "execution_count": 7,
      "outputs": [
        {
          "output_type": "stream",
          "name": "stdout",
          "text": [
            "Please Enter Your Marks45\n",
            "pass\n"
          ]
        }
      ]
    },
    {
      "cell_type": "code",
      "source": [],
      "metadata": {
        "id": "kdZTqYibHml0"
      },
      "execution_count": 7,
      "outputs": []
    }
  ]
}