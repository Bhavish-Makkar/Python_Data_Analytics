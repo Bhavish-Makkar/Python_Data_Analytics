{
  "nbformat": 4,
  "nbformat_minor": 0,
  "metadata": {
    "colab": {
      "private_outputs": true,
      "provenance": [],
      "authorship_tag": "ABX9TyPqD7p675stBJfog7GPqWeG",
      "include_colab_link": true
    },
    "kernelspec": {
      "name": "python3",
      "display_name": "Python 3"
    },
    "language_info": {
      "name": "python"
    }
  },
  "cells": [
    {
      "cell_type": "markdown",
      "metadata": {
        "id": "view-in-github",
        "colab_type": "text"
      },
      "source": [
        "<a href=\"https://colab.research.google.com/github/Bhavish-Makkar/Python_Data_Analytics/blob/main/Break_and_Continue_statement.ipynb\" target=\"_parent\"><img src=\"https://colab.research.google.com/assets/colab-badge.svg\" alt=\"Open In Colab\"/></a>"
      ]
    },
    {
      "cell_type": "markdown",
      "source": [
        "Write a program to print numbers from 1 to 10, but stop if the number is 5."
      ],
      "metadata": {
        "id": "riR1Dg-KfJ-A"
      }
    },
    {
      "cell_type": "code",
      "execution_count": null,
      "metadata": {
        "id": "Vh5bMCRTefxb"
      },
      "outputs": [],
      "source": [
        "for i in range (1,10+1):\n",
        "  if(i==5):\n",
        "\n",
        "    break\n",
        "  print(i)\n",
        ""
      ]
    },
    {
      "cell_type": "markdown",
      "source": [
        "Write a program to iterate through a list and stop when encountering a specific element."
      ],
      "metadata": {
        "id": "CTtDIweyfgNi"
      }
    },
    {
      "cell_type": "code",
      "source": [
        "courses=[\"datastructure\",\"datascience\",\"webtech\",\"javascript\"]\n",
        "for course in courses:\n",
        "  if(course==\"webtech\"):\n",
        "   break\n",
        "  print(course)"
      ],
      "metadata": {
        "id": "e0QUoWU-frFd"
      },
      "execution_count": null,
      "outputs": []
    },
    {
      "cell_type": "markdown",
      "source": [
        "Write a program to skip printing even numbers from 1 to 10."
      ],
      "metadata": {
        "id": "fW2wSBYLgFGu"
      }
    },
    {
      "cell_type": "code",
      "source": [
        "for i in range(1,10+1):\n",
        "  if(i%2==0):\n",
        "\n",
        "   continue\n",
        "  print(i)\n"
      ],
      "metadata": {
        "id": "XhUxZtUAgRo0"
      },
      "execution_count": null,
      "outputs": []
    },
    {
      "cell_type": "markdown",
      "source": [
        "Write a program to print numbers from 0 to 9 using range"
      ],
      "metadata": {
        "id": "VsAI316-gdpP"
      }
    },
    {
      "cell_type": "code",
      "source": [
        "for i in range(9+1):\n",
        "  print(i)"
      ],
      "metadata": {
        "id": "S9GkFkyngnPt"
      },
      "execution_count": null,
      "outputs": []
    },
    {
      "cell_type": "markdown",
      "source": [
        "Write a program to print multiplication tables from 1 to 5, but stop after the first table is printed for each\n",
        "number."
      ],
      "metadata": {
        "id": "Y9YXHBU-gtti"
      }
    },
    {
      "cell_type": "code",
      "source": [
        "for i in range(1,5+1):\n",
        "  for j in range(1,10+1):\n",
        "    if(j==2):\n",
        "     break\n",
        "    result=i*j\n",
        "    print(f\"{i}*{j}-->{result}\")\n",
        "\n",
        "  print()"
      ],
      "metadata": {
        "id": "8QkzgA0Jg39X"
      },
      "execution_count": null,
      "outputs": []
    },
    {
      "cell_type": "markdown",
      "source": [
        "Write a program to skip printing even numbers using a while loop."
      ],
      "metadata": {
        "id": "lLLgU1sjjRut"
      }
    },
    {
      "cell_type": "code",
      "source": [
        "num=int(input(\"Enter The Number-: \"))\n",
        "i=1\n",
        "while(i<=num):\n",
        "  if(i%2==0):\n",
        "    i+=1\n",
        "    continue\n",
        "  print(i)\n",
        "  i+=1\n",
        ""
      ],
      "metadata": {
        "id": "AixD43otjeD_"
      },
      "execution_count": null,
      "outputs": []
    },
    {
      "cell_type": "code",
      "source": [],
      "metadata": {
        "id": "o_ni5jEYjsk1"
      },
      "execution_count": null,
      "outputs": []
    }
  ]
}